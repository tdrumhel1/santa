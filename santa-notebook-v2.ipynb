{
 "cells": [
  {
   "cell_type": "code",
   "execution_count": 1,
   "metadata": {
    "_cell_guid": "b1076dfc-b9ad-4769-8c92-a6c4dae69d19",
    "_uuid": "8f2839f25d086af736a60e9eeb907d3b93b6e0e5"
   },
   "outputs": [],
   "source": [
    "# This Python 3 environment comes with many helpful analytics libraries installed\n",
    "# It is defined by the kaggle/python docker image: https://github.com/kaggle/docker-python\n",
    "# For example, here's several helpful packages to load in \n",
    "\n",
    "import numpy as np # linear algebra\n",
    "import pandas as pd # data processing, CSV file I/O (e.g. pd.read_csv)\n",
    "import seaborn as sns\n",
    "import matplotlib.pyplot as plt\n",
    "\n",
    "# Input data files are available in the \"../input/\" directory.\n",
    "# For example, running this (by clicking run or pressing Shift+Enter) will list all files under the input directory\n",
    "\n",
    "import os\n",
    "for dirname, _, filenames in os.walk('/kaggle/input'):\n",
    "    for filename in filenames:\n",
    "        print(os.path.join(dirname, filename))\n",
    "\n",
    "# Any results you write to the current directory are saved as output."
   ]
  },
  {
   "cell_type": "code",
   "execution_count": 2,
   "metadata": {
    "code_folding": [
     0
    ]
   },
   "outputs": [],
   "source": [
    "def add_value_labels(ax, spacing=5):\n",
    "    \"\"\"Add labels to the end of each bar in a bar chart.\n",
    "\n",
    "    Arguments:\n",
    "        ax (matplotlib.axes.Axes): The matplotlib object containing the axes\n",
    "            of the plot to annotate.\n",
    "        spacing (int): The distance between the labels and the bars.\n",
    "    \"\"\"\n",
    "\n",
    "    # For each bar: Place a label\n",
    "    for rect in ax.patches:\n",
    "        # Get X and Y placement of label from rect.\n",
    "        y_value = rect.get_height()\n",
    "        x_value = rect.get_x() + rect.get_width() / 2\n",
    "\n",
    "        # Number of points between bar and label. Change to your liking.\n",
    "        space = spacing\n",
    "        # Vertical alignment for positive values\n",
    "        va = 'bottom'\n",
    "\n",
    "        # If value of bar is negative: Place label below bar\n",
    "        if y_value < 0:\n",
    "            # Invert space to place label below\n",
    "            space *= -1\n",
    "            # Vertically align label at top\n",
    "            va = 'top'\n",
    "\n",
    "        # Use Y value as label and format number with one decimal place\n",
    "        label = \"{:.0f}\".format(y_value)\n",
    "\n",
    "        # Create annotation\n",
    "        ax.annotate(\n",
    "            label,                      # Use `label` as label\n",
    "            (x_value, y_value),         # Place label at end of the bar\n",
    "            xytext=(0, space),          # Vertically shift label by `space`\n",
    "            textcoords=\"offset points\", # Interpret `xytext` as offset in points\n",
    "            ha='center',                # Horizontally center label\n",
    "            va=va)                      # Vertically align label differently for\n",
    "                                        # positive and negative values.\n"
   ]
  },
  {
   "cell_type": "markdown",
   "metadata": {},
   "source": [
    "## Read in the family information and sample submission"
   ]
  },
  {
   "cell_type": "code",
   "execution_count": 3,
   "metadata": {
    "_cell_guid": "79c7e3d0-c299-4dcb-8224-4455121ee9b0",
    "_uuid": "d629ff2d2480ee46fbb7e2d37f6b5fab8052498a"
   },
   "outputs": [],
   "source": [
    "fpath = 'family_data.csv'\n",
    "data = pd.read_csv(fpath, index_col='family_id')\n",
    "\n",
    "fpath = 'sample_submission.csv'\n",
    "submission = pd.read_csv(fpath, index_col='family_id')"
   ]
  },
  {
   "cell_type": "code",
   "execution_count": 4,
   "metadata": {},
   "outputs": [
    {
     "data": {
      "text/html": [
       "<div>\n",
       "<style scoped>\n",
       "    .dataframe tbody tr th:only-of-type {\n",
       "        vertical-align: middle;\n",
       "    }\n",
       "\n",
       "    .dataframe tbody tr th {\n",
       "        vertical-align: top;\n",
       "    }\n",
       "\n",
       "    .dataframe thead th {\n",
       "        text-align: right;\n",
       "    }\n",
       "</style>\n",
       "<table border=\"1\" class=\"dataframe\">\n",
       "  <thead>\n",
       "    <tr style=\"text-align: right;\">\n",
       "      <th></th>\n",
       "      <th>choice_0</th>\n",
       "      <th>choice_1</th>\n",
       "      <th>choice_2</th>\n",
       "      <th>choice_3</th>\n",
       "      <th>choice_4</th>\n",
       "      <th>choice_5</th>\n",
       "      <th>choice_6</th>\n",
       "      <th>choice_7</th>\n",
       "      <th>choice_8</th>\n",
       "      <th>choice_9</th>\n",
       "      <th>n_people</th>\n",
       "    </tr>\n",
       "    <tr>\n",
       "      <th>family_id</th>\n",
       "      <th></th>\n",
       "      <th></th>\n",
       "      <th></th>\n",
       "      <th></th>\n",
       "      <th></th>\n",
       "      <th></th>\n",
       "      <th></th>\n",
       "      <th></th>\n",
       "      <th></th>\n",
       "      <th></th>\n",
       "      <th></th>\n",
       "    </tr>\n",
       "  </thead>\n",
       "  <tbody>\n",
       "    <tr>\n",
       "      <td>0</td>\n",
       "      <td>52</td>\n",
       "      <td>38</td>\n",
       "      <td>12</td>\n",
       "      <td>82</td>\n",
       "      <td>33</td>\n",
       "      <td>75</td>\n",
       "      <td>64</td>\n",
       "      <td>76</td>\n",
       "      <td>10</td>\n",
       "      <td>28</td>\n",
       "      <td>4</td>\n",
       "    </tr>\n",
       "    <tr>\n",
       "      <td>1</td>\n",
       "      <td>26</td>\n",
       "      <td>4</td>\n",
       "      <td>82</td>\n",
       "      <td>5</td>\n",
       "      <td>11</td>\n",
       "      <td>47</td>\n",
       "      <td>38</td>\n",
       "      <td>6</td>\n",
       "      <td>66</td>\n",
       "      <td>61</td>\n",
       "      <td>4</td>\n",
       "    </tr>\n",
       "    <tr>\n",
       "      <td>2</td>\n",
       "      <td>100</td>\n",
       "      <td>54</td>\n",
       "      <td>25</td>\n",
       "      <td>12</td>\n",
       "      <td>27</td>\n",
       "      <td>82</td>\n",
       "      <td>10</td>\n",
       "      <td>89</td>\n",
       "      <td>80</td>\n",
       "      <td>33</td>\n",
       "      <td>3</td>\n",
       "    </tr>\n",
       "    <tr>\n",
       "      <td>3</td>\n",
       "      <td>2</td>\n",
       "      <td>95</td>\n",
       "      <td>1</td>\n",
       "      <td>96</td>\n",
       "      <td>32</td>\n",
       "      <td>6</td>\n",
       "      <td>40</td>\n",
       "      <td>31</td>\n",
       "      <td>9</td>\n",
       "      <td>59</td>\n",
       "      <td>2</td>\n",
       "    </tr>\n",
       "    <tr>\n",
       "      <td>4</td>\n",
       "      <td>53</td>\n",
       "      <td>1</td>\n",
       "      <td>47</td>\n",
       "      <td>93</td>\n",
       "      <td>26</td>\n",
       "      <td>3</td>\n",
       "      <td>46</td>\n",
       "      <td>16</td>\n",
       "      <td>42</td>\n",
       "      <td>39</td>\n",
       "      <td>4</td>\n",
       "    </tr>\n",
       "  </tbody>\n",
       "</table>\n",
       "</div>"
      ],
      "text/plain": [
       "           choice_0  choice_1  choice_2  choice_3  choice_4  choice_5  \\\n",
       "family_id                                                               \n",
       "0                52        38        12        82        33        75   \n",
       "1                26         4        82         5        11        47   \n",
       "2               100        54        25        12        27        82   \n",
       "3                 2        95         1        96        32         6   \n",
       "4                53         1        47        93        26         3   \n",
       "\n",
       "           choice_6  choice_7  choice_8  choice_9  n_people  \n",
       "family_id                                                    \n",
       "0                64        76        10        28         4  \n",
       "1                38         6        66        61         4  \n",
       "2                10        89        80        33         3  \n",
       "3                40        31         9        59         2  \n",
       "4                46        16        42        39         4  "
      ]
     },
     "execution_count": 4,
     "metadata": {},
     "output_type": "execute_result"
    }
   ],
   "source": [
    "data.head()"
   ]
  },
  {
   "cell_type": "code",
   "execution_count": 5,
   "metadata": {},
   "outputs": [
    {
     "data": {
      "text/html": [
       "<div>\n",
       "<style scoped>\n",
       "    .dataframe tbody tr th:only-of-type {\n",
       "        vertical-align: middle;\n",
       "    }\n",
       "\n",
       "    .dataframe tbody tr th {\n",
       "        vertical-align: top;\n",
       "    }\n",
       "\n",
       "    .dataframe thead th {\n",
       "        text-align: right;\n",
       "    }\n",
       "</style>\n",
       "<table border=\"1\" class=\"dataframe\">\n",
       "  <thead>\n",
       "    <tr style=\"text-align: right;\">\n",
       "      <th></th>\n",
       "      <th>assigned_day</th>\n",
       "    </tr>\n",
       "    <tr>\n",
       "      <th>family_id</th>\n",
       "      <th></th>\n",
       "    </tr>\n",
       "  </thead>\n",
       "  <tbody>\n",
       "    <tr>\n",
       "      <td>0</td>\n",
       "      <td>100</td>\n",
       "    </tr>\n",
       "    <tr>\n",
       "      <td>1</td>\n",
       "      <td>99</td>\n",
       "    </tr>\n",
       "    <tr>\n",
       "      <td>2</td>\n",
       "      <td>98</td>\n",
       "    </tr>\n",
       "    <tr>\n",
       "      <td>3</td>\n",
       "      <td>97</td>\n",
       "    </tr>\n",
       "    <tr>\n",
       "      <td>4</td>\n",
       "      <td>96</td>\n",
       "    </tr>\n",
       "  </tbody>\n",
       "</table>\n",
       "</div>"
      ],
      "text/plain": [
       "           assigned_day\n",
       "family_id              \n",
       "0                   100\n",
       "1                    99\n",
       "2                    98\n",
       "3                    97\n",
       "4                    96"
      ]
     },
     "execution_count": 5,
     "metadata": {},
     "output_type": "execute_result"
    }
   ],
   "source": [
    "submission.head()"
   ]
  },
  {
   "cell_type": "markdown",
   "metadata": {},
   "source": [
    "## Exploring the Family Data"
   ]
  },
  {
   "cell_type": "code",
   "execution_count": 6,
   "metadata": {
    "code_folding": []
   },
   "outputs": [],
   "source": [
    "# Setting base date as Christmas Eve\n",
    "import datetime\n",
    "base = datetime.datetime(2019,12,24,00)\n",
    "\n",
    "# Creating datelist for all 100 days before christmas\n",
    "date_list = [base - datetime.timedelta(days=x) for x in range(100)]"
   ]
  },
  {
   "cell_type": "code",
   "execution_count": 7,
   "metadata": {},
   "outputs": [
    {
     "data": {
      "text/html": [
       "<div>\n",
       "<style scoped>\n",
       "    .dataframe tbody tr th:only-of-type {\n",
       "        vertical-align: middle;\n",
       "    }\n",
       "\n",
       "    .dataframe tbody tr th {\n",
       "        vertical-align: top;\n",
       "    }\n",
       "\n",
       "    .dataframe thead th {\n",
       "        text-align: right;\n",
       "    }\n",
       "</style>\n",
       "<table border=\"1\" class=\"dataframe\">\n",
       "  <thead>\n",
       "    <tr style=\"text-align: right;\">\n",
       "      <th></th>\n",
       "      <th>date</th>\n",
       "      <th>day</th>\n",
       "    </tr>\n",
       "  </thead>\n",
       "  <tbody>\n",
       "    <tr>\n",
       "      <td>1</td>\n",
       "      <td>2019-12-24</td>\n",
       "      <td>1</td>\n",
       "    </tr>\n",
       "    <tr>\n",
       "      <td>2</td>\n",
       "      <td>2019-12-23</td>\n",
       "      <td>0</td>\n",
       "    </tr>\n",
       "    <tr>\n",
       "      <td>3</td>\n",
       "      <td>2019-12-22</td>\n",
       "      <td>6</td>\n",
       "    </tr>\n",
       "    <tr>\n",
       "      <td>4</td>\n",
       "      <td>2019-12-21</td>\n",
       "      <td>5</td>\n",
       "    </tr>\n",
       "    <tr>\n",
       "      <td>5</td>\n",
       "      <td>2019-12-20</td>\n",
       "      <td>4</td>\n",
       "    </tr>\n",
       "  </tbody>\n",
       "</table>\n",
       "</div>"
      ],
      "text/plain": [
       "        date  day\n",
       "1 2019-12-24    1\n",
       "2 2019-12-23    0\n",
       "3 2019-12-22    6\n",
       "4 2019-12-21    5\n",
       "5 2019-12-20    4"
      ]
     },
     "execution_count": 7,
     "metadata": {},
     "output_type": "execute_result"
    }
   ],
   "source": [
    "# Creating date dataframe with day of week number (0 = Monday)\n",
    "date_index = pd.DataFrame(date_list,columns=['date'])\n",
    "date_index['day'] = date_index['date'].apply(lambda x: x.dayofweek)\n",
    "date_index.index += 1 #aligning the index to days before Xmas\n",
    "date_index[:5]"
   ]
  },
  {
   "cell_type": "markdown",
   "metadata": {},
   "source": [
    "## I need to create some functions to help approxiate cost and stay within the bounds"
   ]
  },
  {
   "cell_type": "code",
   "execution_count": 8,
   "metadata": {
    "code_folding": [
     1
    ]
   },
   "outputs": [],
   "source": [
    "# Given cost function for families not getting their desired preferences\n",
    "def top_pref_penalty(pref,d):\n",
    "    \n",
    "    penalty = 0\n",
    "    n = pref\n",
    "    \n",
    "    d = d\n",
    "    if pref > 0:\n",
    "        if d == 0:\n",
    "            penalty += 0\n",
    "        elif d == 1:\n",
    "            penalty += 50\n",
    "        elif d == 2:\n",
    "            penalty += 50 + 9 * n\n",
    "        elif d == 3:\n",
    "            penalty += 100 + 9 * n\n",
    "        elif d == 4:\n",
    "            penalty += 200 + 9 * n\n",
    "        elif d == 5:\n",
    "            penalty += 200 + 18 * n\n",
    "        elif d == 6:\n",
    "            penalty += 300 + 18 * n\n",
    "        elif d == 7:\n",
    "            penalty += 300 + 36 * n\n",
    "        elif d == 8:\n",
    "            penalty += 400 + 36 * n\n",
    "        elif d == 9:\n",
    "            penalty += 500 + 36 * n + 199 * n\n",
    "        else:\n",
    "            penalty += 500 + 36 * n + 398 * n\n",
    "    else:\n",
    "        pass\n",
    "        \n",
    "    return penalty"
   ]
  },
  {
   "cell_type": "code",
   "execution_count": 9,
   "metadata": {
    "code_folding": []
   },
   "outputs": [],
   "source": [
    "# # Daily limit function to ensure all days have at least 125 people and at most 300 \n",
    "# # (can mess with parameters to change cost)\n",
    "# def daily_limit(family_id,choice,n_people,pref,n):\n",
    "    \n",
    "#     # Looping through all family choices until finding match and ensuring buckets get filled to n at least\n",
    "#     if occupancy.loc[choice]['total'] + n_people <= n and pref <= 3:\n",
    "        \n",
    "#         occupancy.loc[choice]['pref_{}'.format(pref)] += n_people\n",
    "#         occupancy.loc[choice]['total'] += n_people\n",
    "        \n",
    "#         submission.loc[family_id]['assigned_day'] = choice.astype('int')\n",
    "#         submission.loc[family_id]['pref'] = pref\n",
    "        \n",
    "#         return 1 # Should stop iterating when adding to occupancy df\n",
    "\n",
    "#     # Force people into smaller buckets for their 7th thru 9th choice if breaking daily limit rules\n",
    "#     elif pref >= 7:\n",
    "        \n",
    "#         # Current smallest buckets in Occupancy dataframe\n",
    "#         current_smallest = pd.DataFrame(occupancy['total'].nsmallest(10))\n",
    "        \n",
    "#         # Should be 7 every time\n",
    "#         pref = pref\n",
    "        \n",
    "#         # Loop through final 3 choices and put in smallest bucket if possible\n",
    "#         for i in data.iloc[family_id][['choice_7','choice_8','choice_9']].values:\n",
    "            \n",
    "#             # Loop through Pref 7 to 9 days in order and see if in smallest 10 buckets\n",
    "#             if i in list(current_smallest.index.values):\n",
    "#                 occupancy.loc[i]['pref_{}'.format(pref)] += n_people\n",
    "#                 occupancy.loc[i]['total'] += n_people\n",
    "                \n",
    "#                 submission.loc[family_id]['assigned_day'] = choice.astype('int')\n",
    "#                 submission.loc[family_id]['pref'] = i\n",
    "                \n",
    "#                 return 1 # Should stop iterating when adding to occupancy df\n",
    "#                 break\n",
    "                \n",
    "#             # If current pref is not is smallest list, go to next and try again\n",
    "#             else:\n",
    "#                 pref += 1\n",
    "#                 pass\n",
    "            \n",
    "#         # If we get through all choices and don't fill smallest buckets, put into smallest bucket    \n",
    "#         if pref == 10:\n",
    "            \n",
    "#             smallest_day = list(current_smallest.index.values)[0]\n",
    "            \n",
    "#             occupancy.loc[smallest_day]['pref_{}'.format(10)] += n_people\n",
    "#             occupancy.loc[smallest_day]['total'] += n_people\n",
    "            \n",
    "#             submission.loc[family_id]['assigned_day'] = choice.astype('int')\n",
    "#             submission.loc[family_id]['pref'] = pref\n",
    "            \n",
    "#             return 1 #Should stop iterating when adding to occupancy df\n",
    "        \n",
    "#     else:\n",
    "#         return 0 #Should continue iterating through choices when buckets need to be filled"
   ]
  },
  {
   "cell_type": "code",
   "execution_count": 196,
   "metadata": {},
   "outputs": [],
   "source": [
    "# Daily limit function to ensure all days have at least 125 people and at most 300 \n",
    "# (can mess with parameters to change cost)\n",
    "def daily_limit(family_id,choice,n_people,pref,n,remaining):\n",
    "    \n",
    "    bucket_total = occupancy.loc[choice]['total']\n",
    "    \n",
    "    if choice == 100:\n",
    "        pre_bucket_total = 0\n",
    "    else:\n",
    "        pre_bucket_total = occupancy.loc[choice+1]['total']\n",
    "    \n",
    "#     if choice == 1:\n",
    "#         post_bucket_total = 300\n",
    "#     else:\n",
    "    post_bucket_total = occupancy.loc[choice-1]['total']\n",
    "    \n",
    "    \n",
    "    # Looping through all family choices until finding match and ensuring buckets get filled to n at least\n",
    "    if (occupancy.loc[choice]['total'] + n_people <= 300 and\\\n",
    "        remaining > occupancy[occupancy['total'] < 125]['total'].sum() + n_people and\\\n",
    "        abs(occupancy.loc[choice]['total'] + n_people - pre_bucket_total) <= 50 and\\\n",
    "        abs(occupancy.loc[choice]['total'] + n_people - post_bucket_total) <= 50 \\\n",
    "       ):\n",
    "        \n",
    "        # Counting in Occupancy Dataframe\n",
    "        occupancy.loc[choice]['pref_{}'.format(pref)] += n_people\n",
    "        occupancy.loc[choice]['total'] += n_people\n",
    "        \n",
    "        # Adding submission\n",
    "        submission.loc[family_id]['assigned_day'] = choice.astype('int')\n",
    "        submission.loc[family_id]['pref'] = pref\n",
    "        \n",
    "        # I do not want to constrain Day 0\n",
    "        if choice == 1:\n",
    "            occupancy.loc[0]['pref_{}'.format(pref)] += n_people\n",
    "            occupancy.loc[0]['total'] += n_people\n",
    "        else:\n",
    "            pass\n",
    "        \n",
    "        return 1\n",
    "    \n",
    "    elif pref >= 9:\n",
    "        \n",
    "        current_smallest = pd.DataFrame(occupancy['total'].nsmallest(10))\n",
    "        smallest_day = list(current_smallest.index.values)[0]\n",
    "        \n",
    "        occupancy.loc[smallest_day]['pref_{}'.format(10)] += n_people\n",
    "        occupancy.loc[smallest_day]['total'] += n_people\n",
    "\n",
    "        submission.iloc[family_id]['assigned_day'] = smallest_day\n",
    "        submission.iloc[family_id]['pref'] = 10\n",
    "            \n",
    "        return 1 #Should stop iterating when adding to occupancy df\n",
    "        \n",
    "    else:\n",
    "        return 0\n",
    "        "
   ]
  },
  {
   "cell_type": "markdown",
   "metadata": {},
   "source": [
    "## Assigning Days Based off Preference and Daily Occupancy Limits (initial evaluation):"
   ]
  },
  {
   "cell_type": "code",
   "execution_count": 197,
   "metadata": {},
   "outputs": [],
   "source": [
    "# Testing logic for dynamically looking at choices\n",
    "n = 225\n",
    "\n",
    "# Creating occupancy dataframe to capture daily attendance by preference\n",
    "columns = ['pref_0', 'pref_1', 'pref_2', 'pref_3', 'pref_4', 'pref_5',\n",
    "       'pref_6', 'pref_7', 'pref_8', 'pref_9','pref_10','total']\n",
    "occupancy = pd.DataFrame(0,index=range(0,101),columns=columns)\n",
    "\n",
    "# Create submission dataframe\n",
    "submission = pd.DataFrame(data.copy(deep=True),columns=['assigned_day','pref'])\n",
    "\n",
    "remaining = 20968 # total number of people\n",
    "\n",
    "for index,row in data.iterrows():\n",
    "    for i in range(10):\n",
    "        choice = row['choice_{}'.format(i)]\n",
    "        n_people = row['n_people']\n",
    "        family_id = index\n",
    "        pref = i\n",
    "        \n",
    "        # Runs occupancy filling function from highlest to lowest preference\n",
    "        add_check = daily_limit(family_id,choice,n_people,pref,n,remaining)\n",
    "        \n",
    "        if add_check == 1:\n",
    "            remaining -= n_people\n",
    "            break\n",
    "\n",
    "        if add_check == 0:\n",
    "            pass\n",
    "        \n",
    "        else:\n",
    "            assert False, 'Error with add_check'\n"
   ]
  },
  {
   "cell_type": "code",
   "execution_count": 198,
   "metadata": {},
   "outputs": [
    {
     "data": {
      "text/plain": [
       "(128, 300)"
      ]
     },
     "execution_count": 198,
     "metadata": {},
     "output_type": "execute_result"
    }
   ],
   "source": [
    "occupancy['total'].min(), occupancy['total'].max()"
   ]
  },
  {
   "cell_type": "code",
   "execution_count": 199,
   "metadata": {},
   "outputs": [
    {
     "data": {
      "text/plain": [
       "(128, 300, 21003)"
      ]
     },
     "execution_count": 199,
     "metadata": {},
     "output_type": "execute_result"
    }
   ],
   "source": [
    "submission['n_people'] = data['n_people']\n",
    "sub_agg = submission[['assigned_day','n_people']].groupby('assigned_day').sum()\n",
    "sub_agg['n_people'].min(),sub_agg['n_people'].max(), sub_agg['n_people'].sum()"
   ]
  },
  {
   "cell_type": "code",
   "execution_count": 200,
   "metadata": {},
   "outputs": [
    {
     "data": {
      "text/plain": [
       "21303"
      ]
     },
     "execution_count": 200,
     "metadata": {},
     "output_type": "execute_result"
    }
   ],
   "source": [
    "occupancy['total'].sum()"
   ]
  },
  {
   "cell_type": "code",
   "execution_count": 201,
   "metadata": {
    "scrolled": true
   },
   "outputs": [
    {
     "data": {
      "text/html": [
       "<div>\n",
       "<style scoped>\n",
       "    .dataframe tbody tr th:only-of-type {\n",
       "        vertical-align: middle;\n",
       "    }\n",
       "\n",
       "    .dataframe tbody tr th {\n",
       "        vertical-align: top;\n",
       "    }\n",
       "\n",
       "    .dataframe thead th {\n",
       "        text-align: right;\n",
       "    }\n",
       "</style>\n",
       "<table border=\"1\" class=\"dataframe\">\n",
       "  <thead>\n",
       "    <tr style=\"text-align: right;\">\n",
       "      <th></th>\n",
       "      <th>choice_0</th>\n",
       "      <th>choice_1</th>\n",
       "      <th>choice_2</th>\n",
       "      <th>choice_3</th>\n",
       "      <th>choice_4</th>\n",
       "      <th>choice_5</th>\n",
       "      <th>choice_6</th>\n",
       "      <th>choice_7</th>\n",
       "      <th>choice_8</th>\n",
       "      <th>choice_9</th>\n",
       "      <th>n_people</th>\n",
       "    </tr>\n",
       "    <tr>\n",
       "      <th>family_id</th>\n",
       "      <th></th>\n",
       "      <th></th>\n",
       "      <th></th>\n",
       "      <th></th>\n",
       "      <th></th>\n",
       "      <th></th>\n",
       "      <th></th>\n",
       "      <th></th>\n",
       "      <th></th>\n",
       "      <th></th>\n",
       "      <th></th>\n",
       "    </tr>\n",
       "  </thead>\n",
       "  <tbody>\n",
       "  </tbody>\n",
       "</table>\n",
       "</div>"
      ],
      "text/plain": [
       "Empty DataFrame\n",
       "Columns: [choice_0, choice_1, choice_2, choice_3, choice_4, choice_5, choice_6, choice_7, choice_8, choice_9, n_people]\n",
       "Index: []"
      ]
     },
     "execution_count": 201,
     "metadata": {},
     "output_type": "execute_result"
    }
   ],
   "source": [
    "missing = data.loc[submission[submission['pref'].isnull()].index]\n",
    "missing"
   ]
  },
  {
   "cell_type": "code",
   "execution_count": 202,
   "metadata": {},
   "outputs": [
    {
     "data": {
      "text/html": [
       "<div>\n",
       "<style scoped>\n",
       "    .dataframe tbody tr th:only-of-type {\n",
       "        vertical-align: middle;\n",
       "    }\n",
       "\n",
       "    .dataframe tbody tr th {\n",
       "        vertical-align: top;\n",
       "    }\n",
       "\n",
       "    .dataframe thead th {\n",
       "        text-align: right;\n",
       "    }\n",
       "</style>\n",
       "<table border=\"1\" class=\"dataframe\">\n",
       "  <thead>\n",
       "    <tr style=\"text-align: right;\">\n",
       "      <th></th>\n",
       "      <th>assigned_day</th>\n",
       "      <th>pref</th>\n",
       "      <th>n_people</th>\n",
       "    </tr>\n",
       "    <tr>\n",
       "      <th>family_id</th>\n",
       "      <th></th>\n",
       "      <th></th>\n",
       "      <th></th>\n",
       "    </tr>\n",
       "  </thead>\n",
       "  <tbody>\n",
       "  </tbody>\n",
       "</table>\n",
       "</div>"
      ],
      "text/plain": [
       "Empty DataFrame\n",
       "Columns: [assigned_day, pref, n_people]\n",
       "Index: []"
      ]
     },
     "execution_count": 202,
     "metadata": {},
     "output_type": "execute_result"
    }
   ],
   "source": [
    "submission[submission['assigned_day'].isnull()]"
   ]
  },
  {
   "cell_type": "code",
   "execution_count": 203,
   "metadata": {},
   "outputs": [],
   "source": [
    "# for index,row in missing.iterrows():\n",
    "#     for i in range(10):\n",
    "#         choice = row['choice_{}'.format(i)]\n",
    "#         n_people = row['n_people']\n",
    "#         family_id = index\n",
    "#         pref = i\n",
    "        \n",
    "        \n",
    "        \n",
    "    \n",
    "    "
   ]
  },
  {
   "cell_type": "code",
   "execution_count": 204,
   "metadata": {
    "scrolled": false
   },
   "outputs": [],
   "source": [
    "# Initializing Preference Penalty Cost column by day\n",
    "occupancy['pref_pen'] = 0\n",
    "\n",
    "# Apply preference penalty across all preference columns (pref_#) and sums to one column\n",
    "for i in range(11):\n",
    "    occupancy['pref_pen'] += occupancy.apply(lambda x: top_pref_penalty(x['pref_{}'.format(i)],i),axis=1)"
   ]
  },
  {
   "cell_type": "code",
   "execution_count": 205,
   "metadata": {},
   "outputs": [
    {
     "data": {
      "text/html": [
       "<div>\n",
       "<style scoped>\n",
       "    .dataframe tbody tr th:only-of-type {\n",
       "        vertical-align: middle;\n",
       "    }\n",
       "\n",
       "    .dataframe tbody tr th {\n",
       "        vertical-align: top;\n",
       "    }\n",
       "\n",
       "    .dataframe thead th {\n",
       "        text-align: right;\n",
       "    }\n",
       "</style>\n",
       "<table border=\"1\" class=\"dataframe\">\n",
       "  <thead>\n",
       "    <tr style=\"text-align: right;\">\n",
       "      <th></th>\n",
       "      <th>pref_0</th>\n",
       "      <th>pref_1</th>\n",
       "      <th>pref_2</th>\n",
       "      <th>pref_3</th>\n",
       "      <th>pref_4</th>\n",
       "      <th>pref_5</th>\n",
       "      <th>pref_6</th>\n",
       "      <th>pref_7</th>\n",
       "      <th>pref_8</th>\n",
       "      <th>pref_9</th>\n",
       "      <th>pref_10</th>\n",
       "      <th>total</th>\n",
       "      <th>pref_pen</th>\n",
       "    </tr>\n",
       "  </thead>\n",
       "  <tbody>\n",
       "    <tr>\n",
       "      <td>0</td>\n",
       "      <td>229</td>\n",
       "      <td>50</td>\n",
       "      <td>17</td>\n",
       "      <td>0</td>\n",
       "      <td>4</td>\n",
       "      <td>0</td>\n",
       "      <td>0</td>\n",
       "      <td>0</td>\n",
       "      <td>0</td>\n",
       "      <td>0</td>\n",
       "      <td>0</td>\n",
       "      <td>300</td>\n",
       "      <td>489</td>\n",
       "    </tr>\n",
       "    <tr>\n",
       "      <td>1</td>\n",
       "      <td>229</td>\n",
       "      <td>50</td>\n",
       "      <td>17</td>\n",
       "      <td>0</td>\n",
       "      <td>4</td>\n",
       "      <td>0</td>\n",
       "      <td>0</td>\n",
       "      <td>0</td>\n",
       "      <td>0</td>\n",
       "      <td>0</td>\n",
       "      <td>0</td>\n",
       "      <td>300</td>\n",
       "      <td>489</td>\n",
       "    </tr>\n",
       "    <tr>\n",
       "      <td>2</td>\n",
       "      <td>202</td>\n",
       "      <td>47</td>\n",
       "      <td>36</td>\n",
       "      <td>14</td>\n",
       "      <td>0</td>\n",
       "      <td>0</td>\n",
       "      <td>0</td>\n",
       "      <td>0</td>\n",
       "      <td>0</td>\n",
       "      <td>0</td>\n",
       "      <td>0</td>\n",
       "      <td>299</td>\n",
       "      <td>650</td>\n",
       "    </tr>\n",
       "    <tr>\n",
       "      <td>3</td>\n",
       "      <td>236</td>\n",
       "      <td>36</td>\n",
       "      <td>8</td>\n",
       "      <td>13</td>\n",
       "      <td>3</td>\n",
       "      <td>4</td>\n",
       "      <td>0</td>\n",
       "      <td>0</td>\n",
       "      <td>0</td>\n",
       "      <td>0</td>\n",
       "      <td>0</td>\n",
       "      <td>300</td>\n",
       "      <td>888</td>\n",
       "    </tr>\n",
       "    <tr>\n",
       "      <td>4</td>\n",
       "      <td>204</td>\n",
       "      <td>50</td>\n",
       "      <td>31</td>\n",
       "      <td>3</td>\n",
       "      <td>0</td>\n",
       "      <td>3</td>\n",
       "      <td>0</td>\n",
       "      <td>0</td>\n",
       "      <td>0</td>\n",
       "      <td>0</td>\n",
       "      <td>0</td>\n",
       "      <td>291</td>\n",
       "      <td>760</td>\n",
       "    </tr>\n",
       "  </tbody>\n",
       "</table>\n",
       "</div>"
      ],
      "text/plain": [
       "   pref_0  pref_1  pref_2  pref_3  pref_4  pref_5  pref_6  pref_7  pref_8  \\\n",
       "0     229      50      17       0       4       0       0       0       0   \n",
       "1     229      50      17       0       4       0       0       0       0   \n",
       "2     202      47      36      14       0       0       0       0       0   \n",
       "3     236      36       8      13       3       4       0       0       0   \n",
       "4     204      50      31       3       0       3       0       0       0   \n",
       "\n",
       "   pref_9  pref_10  total  pref_pen  \n",
       "0       0        0    300       489  \n",
       "1       0        0    300       489  \n",
       "2       0        0    299       650  \n",
       "3       0        0    300       888  \n",
       "4       0        0    291       760  "
      ]
     },
     "execution_count": 205,
     "metadata": {},
     "output_type": "execute_result"
    }
   ],
   "source": [
    "occupancy.head()"
   ]
  },
  {
   "cell_type": "markdown",
   "metadata": {},
   "source": [
    "## Plotting Preference Given By Day Before Xmas:\n",
    "##### Plotting preference by day after initial run shows most people are getting a better preference near Xmas (most likely due to the volume of preferences on those days), but the further we move away, more people are being added to non-requested days to account for minimum daily volumes of 125 people. Also, weekdays have high percentages of no preference given, which is very expensive"
   ]
  },
  {
   "cell_type": "code",
   "execution_count": 206,
   "metadata": {
    "scrolled": true
   },
   "outputs": [
    {
     "data": {
      "image/png": "[encoded data removed]",
      "text/plain": [
       "<Figure size 1440x360 with 1 Axes>"
      ]
     },
     "metadata": {},
     "output_type": "display_data"
    }
   ],
   "source": [
    "plt.close('all')\n",
    "plt.style.use('seaborn')\n",
    "\n",
    "# Labels for stacked plot\n",
    "labels = list(occupancy.columns)[:11]\n",
    "\n",
    "# Creating individual lists for each preference (required for stacked plot)\n",
    "pref_0 = list(occupancy['pref_0'].values)\n",
    "pref_1 = list(occupancy['pref_1'].values)\n",
    "pref_2 = list(occupancy['pref_2'].values)\n",
    "pref_3 = list(occupancy['pref_3'].values)\n",
    "pref_4 = list(occupancy['pref_4'].values)\n",
    "pref_5 = list(occupancy['pref_5'].values)\n",
    "pref_6 = list(occupancy['pref_6'].values)\n",
    "pref_7 = list(occupancy['pref_7'].values)\n",
    "pref_8 = list(occupancy['pref_8'].values)\n",
    "pref_9 = list(occupancy['pref_9'].values)\n",
    "pref_10 = list(occupancy['pref_10'].values)\n",
    "\n",
    "# Getting days from Occupancy dataframe\n",
    "x = list(occupancy.index.values)\n",
    "\n",
    "# Setting figure\n",
    "fig, ax = plt.subplots(figsize=(20,5))\n",
    "\n",
    "# Formatting plot area\n",
    "ax.set_xlabel('Days from Christmas')\n",
    "ax.set_ylabel('Occupancy')\n",
    "ax.set_ylim(0,400)\n",
    "ax.set_xlim(0,100)\n",
    "\n",
    "# Creating plot\n",
    "ax.stackplot(x,pref_0,pref_1,pref_2,pref_3,pref_4,pref_5,pref_6,pref_7,pref_8,pref_9,pref_10,labels=labels)\n",
    "ax.legend(loc=1,bbox_to_anchor=(1.1, 1))\n",
    "ax.set_title('Occupancy per Day by Preference Given')\n",
    "\n",
    "plt.show()"
   ]
  },
  {
   "cell_type": "markdown",
   "metadata": {},
   "source": [
    "## Accounting cost for all days:\n",
    "##### Accounting costs grow exponentially when the gap between daily volumes is large, as we see with the days further way from Xmas"
   ]
  },
  {
   "cell_type": "code",
   "execution_count": 207,
   "metadata": {},
   "outputs": [
    {
     "data": {
      "text/html": [
       "<div>\n",
       "<style scoped>\n",
       "    .dataframe tbody tr th:only-of-type {\n",
       "        vertical-align: middle;\n",
       "    }\n",
       "\n",
       "    .dataframe tbody tr th {\n",
       "        vertical-align: top;\n",
       "    }\n",
       "\n",
       "    .dataframe thead th {\n",
       "        text-align: right;\n",
       "    }\n",
       "</style>\n",
       "<table border=\"1\" class=\"dataframe\">\n",
       "  <thead>\n",
       "    <tr style=\"text-align: right;\">\n",
       "      <th></th>\n",
       "      <th>pref_0</th>\n",
       "      <th>pref_1</th>\n",
       "      <th>pref_2</th>\n",
       "      <th>pref_3</th>\n",
       "      <th>pref_4</th>\n",
       "      <th>pref_5</th>\n",
       "      <th>pref_6</th>\n",
       "      <th>pref_7</th>\n",
       "      <th>pref_8</th>\n",
       "      <th>pref_9</th>\n",
       "      <th>pref_10</th>\n",
       "      <th>total</th>\n",
       "      <th>pref_pen</th>\n",
       "      <th>acct_cost</th>\n",
       "    </tr>\n",
       "  </thead>\n",
       "  <tbody>\n",
       "    <tr>\n",
       "      <td>96</td>\n",
       "      <td>101</td>\n",
       "      <td>27</td>\n",
       "      <td>8</td>\n",
       "      <td>4</td>\n",
       "      <td>7</td>\n",
       "      <td>0</td>\n",
       "      <td>0</td>\n",
       "      <td>0</td>\n",
       "      <td>0</td>\n",
       "      <td>0</td>\n",
       "      <td>0</td>\n",
       "      <td>147</td>\n",
       "      <td>571</td>\n",
       "      <td>48</td>\n",
       "    </tr>\n",
       "    <tr>\n",
       "      <td>97</td>\n",
       "      <td>43</td>\n",
       "      <td>4</td>\n",
       "      <td>18</td>\n",
       "      <td>0</td>\n",
       "      <td>11</td>\n",
       "      <td>0</td>\n",
       "      <td>0</td>\n",
       "      <td>0</td>\n",
       "      <td>0</td>\n",
       "      <td>0</td>\n",
       "      <td>52</td>\n",
       "      <td>128</td>\n",
       "      <td>23629</td>\n",
       "      <td>0</td>\n",
       "    </tr>\n",
       "    <tr>\n",
       "      <td>98</td>\n",
       "      <td>56</td>\n",
       "      <td>13</td>\n",
       "      <td>8</td>\n",
       "      <td>16</td>\n",
       "      <td>6</td>\n",
       "      <td>0</td>\n",
       "      <td>0</td>\n",
       "      <td>0</td>\n",
       "      <td>0</td>\n",
       "      <td>0</td>\n",
       "      <td>30</td>\n",
       "      <td>129</td>\n",
       "      <td>14190</td>\n",
       "      <td>0</td>\n",
       "    </tr>\n",
       "    <tr>\n",
       "      <td>99</td>\n",
       "      <td>53</td>\n",
       "      <td>23</td>\n",
       "      <td>0</td>\n",
       "      <td>0</td>\n",
       "      <td>0</td>\n",
       "      <td>0</td>\n",
       "      <td>0</td>\n",
       "      <td>0</td>\n",
       "      <td>0</td>\n",
       "      <td>0</td>\n",
       "      <td>52</td>\n",
       "      <td>128</td>\n",
       "      <td>23118</td>\n",
       "      <td>0</td>\n",
       "    </tr>\n",
       "    <tr>\n",
       "      <td>100</td>\n",
       "      <td>30</td>\n",
       "      <td>11</td>\n",
       "      <td>4</td>\n",
       "      <td>0</td>\n",
       "      <td>0</td>\n",
       "      <td>0</td>\n",
       "      <td>0</td>\n",
       "      <td>0</td>\n",
       "      <td>0</td>\n",
       "      <td>0</td>\n",
       "      <td>85</td>\n",
       "      <td>130</td>\n",
       "      <td>37526</td>\n",
       "      <td>0</td>\n",
       "    </tr>\n",
       "  </tbody>\n",
       "</table>\n",
       "</div>"
      ],
      "text/plain": [
       "     pref_0  pref_1  pref_2  pref_3  pref_4  pref_5  pref_6  pref_7  pref_8  \\\n",
       "96      101      27       8       4       7       0       0       0       0   \n",
       "97       43       4      18       0      11       0       0       0       0   \n",
       "98       56      13       8      16       6       0       0       0       0   \n",
       "99       53      23       0       0       0       0       0       0       0   \n",
       "100      30      11       4       0       0       0       0       0       0   \n",
       "\n",
       "     pref_9  pref_10  total  pref_pen  acct_cost  \n",
       "96        0        0    147       571         48  \n",
       "97        0       52    128     23629          0  \n",
       "98        0       30    129     14190          0  \n",
       "99        0       52    128     23118          0  \n",
       "100       0       85    130     37526          0  "
      ]
     },
     "execution_count": 207,
     "metadata": {},
     "output_type": "execute_result"
    }
   ],
   "source": [
    "occupancy['acct_cost'] = 0\n",
    "days = list(range(1,101,1))\n",
    "\n",
    "# First day is special\n",
    "occupancy.loc[days[0]]['acct_cost'] = (occupancy.loc[days[0]]['total']-125.0) / 400.0 *\\\n",
    "                                       occupancy.loc[days[0]]['total']**(0.5)\n",
    "\n",
    "# Loop over the rest of the days, keeping track of previous count\n",
    "yesterday_count = occupancy.loc[days[0]]['total']\n",
    "for day in days[1:]:\n",
    "\n",
    "    today_count = occupancy.loc[day]['total']\n",
    "    diff = abs(today_count - yesterday_count)\n",
    "    occupancy.loc[day]['acct_cost'] = max(0., (occupancy.loc[day]['total']-125.0) / 400.0 *\\\n",
    "                                              occupancy.loc[day]['total']**(0.5 + diff / 50.0))\n",
    "    yesterday_count = today_count\n",
    "\n",
    "occupancy.tail()"
   ]
  },
  {
   "cell_type": "code",
   "execution_count": 208,
   "metadata": {},
   "outputs": [
    {
     "data": {
      "text/plain": [
       "7.58"
      ]
     },
     "execution_count": 208,
     "metadata": {},
     "output_type": "execute_result"
    }
   ],
   "source": [
    "# First day accounting cost (Just checking logic)\n",
    "np.round(max(0,(300-125.0) / 400.0 * 300**(0.5)),2)"
   ]
  },
  {
   "cell_type": "markdown",
   "metadata": {},
   "source": [
    "## Summarizing Cost and Creating Initial Submission:\n",
    "##### Initial submission estimated cost of 710K is lower than the scored cost of 943K"
   ]
  },
  {
   "cell_type": "code",
   "execution_count": 209,
   "metadata": {},
   "outputs": [
    {
     "data": {
      "text/plain": [
       "(558505, 18110)"
      ]
     },
     "execution_count": 209,
     "metadata": {},
     "output_type": "execute_result"
    }
   ],
   "source": [
    "occupancy['pref_pen'].sum(), occupancy['acct_cost'].sum()"
   ]
  },
  {
   "cell_type": "code",
   "execution_count": 210,
   "metadata": {},
   "outputs": [
    {
     "name": "stdout",
     "output_type": "stream",
     "text": [
      "576,615\n"
     ]
    }
   ],
   "source": [
    "occupancy['total_cost'] = occupancy['pref_pen'] + occupancy['acct_cost']\n",
    "score = occupancy['total_cost'].sum()\n",
    "submission['assigned_day'] = pd.to_numeric(submission['assigned_day']).astype('int')\n",
    "submission['pref'] = pd.to_numeric(submission['pref']).astype('int')\n",
    "\n",
    "submission[['assigned_day']].to_csv(f'submission_{score}.csv')\n",
    "submission.to_csv(f'submission_data_{score}.csv')\n",
    "print('{0:,}'.format(score))"
   ]
  },
  {
   "cell_type": "code",
   "execution_count": 211,
   "metadata": {},
   "outputs": [
    {
     "data": {
      "text/plain": [
       "<BarContainer object of 100 artists>"
      ]
     },
     "execution_count": 211,
     "metadata": {},
     "output_type": "execute_result"
    },
    {
     "data": {
      "image/png": "[encoded data removed]",
      "text/plain": [
       "<Figure size 576x396 with 1 Axes>"
      ]
     },
     "metadata": {},
     "output_type": "display_data"
    }
   ],
   "source": [
    "plt.bar(list(sub_agg['n_people'].index),list(sub_agg['n_people'].values))"
   ]
  },
  {
   "cell_type": "markdown",
   "metadata": {},
   "source": [
    "# Code from starter book"
   ]
  },
  {
   "cell_type": "markdown",
   "metadata": {},
   "source": [
    "## Create some lookup dictionaries and define constants\n",
    "\n",
    "You don't need to do it this way. :-)"
   ]
  },
  {
   "cell_type": "code",
   "execution_count": null,
   "metadata": {},
   "outputs": [],
   "source": [
    "family_size_dict = data[['n_people']].to_dict()['n_people']\n",
    "\n",
    "cols = [f'choice_{i}' for i in range(10)]\n",
    "choice_dict = data[cols].to_dict()\n",
    "\n",
    "N_DAYS = 100\n",
    "MAX_OCCUPANCY = 300\n",
    "MIN_OCCUPANCY = 125\n",
    "\n",
    "# from 100 to 1\n",
    "days = list(range(N_DAYS,0,-1))"
   ]
  },
  {
   "cell_type": "markdown",
   "metadata": {},
   "source": [
    "## Cost Function\n",
    "Very un-optimized  ;-)"
   ]
  },
  {
   "cell_type": "code",
   "execution_count": null,
   "metadata": {},
   "outputs": [],
   "source": [
    "def cost_function(prediction):\n",
    "\n",
    "    penalty = 0\n",
    "\n",
    "    # We'll use this to count the number of people scheduled each day\n",
    "    daily_occupancy = {k:0 for k in days}\n",
    "\n",
    "    # Looping over each family; d is the day for each family f\n",
    "    for f, d in enumerate(prediction):\n",
    "\n",
    "        # Using our lookup dictionaries to make simpler variable names\n",
    "        n = family_size_dict[f]\n",
    "        choice_0 = choice_dict['choice_0'][f]\n",
    "        choice_1 = choice_dict['choice_1'][f]\n",
    "        choice_2 = choice_dict['choice_2'][f]\n",
    "        choice_3 = choice_dict['choice_3'][f]\n",
    "        choice_4 = choice_dict['choice_4'][f]\n",
    "        choice_5 = choice_dict['choice_5'][f]\n",
    "        choice_6 = choice_dict['choice_6'][f]\n",
    "        choice_7 = choice_dict['choice_7'][f]\n",
    "        choice_8 = choice_dict['choice_8'][f]\n",
    "        choice_9 = choice_dict['choice_9'][f]\n",
    "\n",
    "        # add the family member count to the daily occupancy\n",
    "        daily_occupancy[d] += n\n",
    "\n",
    "        # Calculate the penalty for not getting top preference\n",
    "        if d == choice_0:\n",
    "            penalty += 0\n",
    "        elif d == choice_1:\n",
    "            penalty += 50\n",
    "        elif d == choice_2:\n",
    "            penalty += 50 + 9 * n\n",
    "        elif d == choice_3:\n",
    "            penalty += 100 + 9 * n\n",
    "        elif d == choice_4:\n",
    "            penalty += 200 + 9 * n\n",
    "        elif d == choice_5:\n",
    "            penalty += 200 + 18 * n\n",
    "        elif d == choice_6:\n",
    "            penalty += 300 + 18 * n\n",
    "        elif d == choice_7:\n",
    "            penalty += 300 + 36 * n\n",
    "        elif d == choice_8:\n",
    "            penalty += 400 + 36 * n\n",
    "        elif d == choice_9:\n",
    "            penalty += 500 + 36 * n + 199 * n\n",
    "        else:\n",
    "            penalty += 500 + 36 * n + 398 * n\n",
    "\n",
    "    # for each date, check total occupancy\n",
    "    #  (using soft constraints instead of hard constraints)\n",
    "    for _, v in daily_occupancy.items():\n",
    "        if (v > MAX_OCCUPANCY) or (v < MIN_OCCUPANCY):\n",
    "            penalty += 100000000\n",
    "\n",
    "    # Calculate the accounting cost\n",
    "    # The first day (day 100) is treated special\n",
    "    accounting_cost = (daily_occupancy[days[0]]-125.0) / 400.0 * daily_occupancy[days[0]]**(0.5)\n",
    "    # using the max function because the soft constraints might allow occupancy to dip below 125\n",
    "    accounting_cost = max(0, accounting_cost)\n",
    "    \n",
    "    # Loop over the rest of the days, keeping track of previous count\n",
    "    yesterday_count = daily_occupancy[days[0]]\n",
    "    for day in days[1:]:\n",
    "        today_count = daily_occupancy[day]\n",
    "        diff = abs(today_count - yesterday_count)\n",
    "        accounting_cost += max(0, (daily_occupancy[day]-125.0) / 400.0 * daily_occupancy[day]**(0.5 + diff / 50.0))\n",
    "        yesterday_count = today_count\n",
    "\n",
    "    penalty += accounting_cost\n",
    "\n",
    "    return penalty"
   ]
  },
  {
   "cell_type": "markdown",
   "metadata": {},
   "source": [
    "## Simple Opimization Approach\n",
    "\n",
    "For each family, loop over their choices, and if keep it if the score improves. There's a lot of easy improvement that can be made to this code."
   ]
  },
  {
   "cell_type": "code",
   "execution_count": null,
   "metadata": {},
   "outputs": [],
   "source": [
    "# Start with the sample submission values\n",
    "best = submission['assigned_day'].tolist()\n",
    "start_score = cost_function(best)\n",
    "\n",
    "new = best.copy()\n",
    "# loop over each family\n",
    "for fam_id, _ in enumerate(best):\n",
    "    # loop over each family choice\n",
    "    for pick in range(10):\n",
    "        day = choice_dict[f'choice_{pick}'][fam_id]\n",
    "        temp = new.copy()\n",
    "        temp[fam_id] = day # add in the new pick\n",
    "        if cost_function(temp) < start_score:\n",
    "            new = temp.copy()\n",
    "            start_score = cost_function(new)\n",
    "\n",
    "submission['assigned_day'] = new\n",
    "score = cost_function(new)\n",
    "submission.to_csv(f'submission_{score}.csv')\n",
    "print(f'Score: {score}')"
   ]
  },
  {
   "cell_type": "markdown",
   "metadata": {},
   "source": [
    "# Scrap"
   ]
  },
  {
   "cell_type": "code",
   "execution_count": null,
   "metadata": {
    "scrolled": true
   },
   "outputs": [],
   "source": [
    "# Creating my empty occupancy dataframe for controlling limits\n",
    "occupancy = pd.DataFrame(0,index=date_index.index,columns=['occ_count'])\n",
    "occupancy"
   ]
  },
  {
   "cell_type": "code",
   "execution_count": null,
   "metadata": {
    "scrolled": true
   },
   "outputs": [],
   "source": [
    "# Creating trimmed dataframe of non-peak requests (Mon-Thur) and non-Xmas Eve\n",
    "non_weekend_or_xmas = data.where(~data.choice_0_day.isin([4,5,6])&data.choice_0_day != 1).dropna()\n",
    "non_weekend_or_xmas.head()"
   ]
  },
  {
   "cell_type": "code",
   "execution_count": null,
   "metadata": {},
   "outputs": [],
   "source": [
    "# Adding non-peak requests to occupancy dataframe\n",
    "for index,row in non_weekend_or_xmas.iterrows():\n",
    "    occupancy['occ_count'][row['choice_0']] += row['n_people']\n",
    "#     print(index,row['n_people'])"
   ]
  },
  {
   "cell_type": "code",
   "execution_count": null,
   "metadata": {
    "scrolled": true
   },
   "outputs": [],
   "source": [
    "# loops = 100\n",
    "# for i in range(100):\n",
    "#     data['picked_choice_{}'.format(i)] = 10\n",
    "#     data['picked_day_{}'.format(i)] = -2\n",
    "    "
   ]
  }
 ],
 "metadata": {
  "kernelspec": {
   "display_name": "Python 3",
   "language": "python",
   "name": "python3"
  },
  "language_info": {
   "codemirror_mode": {
    "name": "ipython",
    "version": 3
   },
   "file_extension": ".py",
   "mimetype": "text/x-python",
   "name": "python",
   "nbconvert_exporter": "python",
   "pygments_lexer": "ipython3",
   "version": "3.7.4"
  }
 },
 "nbformat": 4,
 "nbformat_minor": 1
}
